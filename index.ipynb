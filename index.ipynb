{
 "cells": [
  {
   "cell_type": "code",
   "execution_count": 18,
   "metadata": {
    "ExecuteTime": {
     "end_time": "2021-07-28T13:20:58.861781Z",
     "start_time": "2021-07-28T13:20:58.835169Z"
    }
   },
   "outputs": [],
   "source": [
    "#run this cell as-is\n",
    "import pandas as pd\n",
    "import numpy as np\n",
    "from sklearn.datasets import make_classification\n",
    "from sklearn.preprocessing import StandardScaler\n",
    "from sklearn.model_selection import train_test_split\n",
    "from sklearn.neighbors import KNeighborsClassifier\n",
    "from sklearn.metrics import f1_score\n",
    "\n",
    "import matplotlib.pyplot as plt\n",
    "%matplotlib inline\n",
    "\n",
    "#used for tests\n",
    "from test_scripts.test_class import Test\n",
    "test = Test()\n",
    "\n",
    "data = test.load_ind('data')\n",
    "\n",
    "X = data.drop('target', axis=1, inplace=False)\n",
    "y = data['target']"
   ]
  },
  {
   "cell_type": "markdown",
   "metadata": {},
   "source": [
    "### Complete the following code which:\n",
    "\n",
    "- Performs a train-test split\n",
    "  - test data is 20% of total data, `random_state` of 34\n",
    "\n",
    "- creates StandardScaler and KnnClassifier objects\n",
    "\n",
    "- scales the train and test data (correctly!)\n",
    "\n",
    "- Sets up a loop which\n",
    "  - sets the `n_neighbors` attribute in the knn object to the current iteration of the loop\n",
    "     - (Why do we only include odd k values?  Why do we start with 3?)\n",
    "  - fits the knn object on the training data\n",
    "  - makes predictions on the test data\n",
    "  - finds the f1_score of the test data\n",
    "  - appends that score to `knn_scores`, a hither-to empty list\n",
    "  \n",
    "The code following the loop graphs the f1_score by k value, no need to alter anything in there\n",
    "\n",
    "Graph should look like this:\n",
    "\n",
    "![](test_obj/viz.png)"
   ]
  },
  {
   "cell_type": "code",
   "execution_count": 19,
   "metadata": {
    "ExecuteTime": {
     "end_time": "2021-07-28T13:21:05.423000Z",
     "start_time": "2021-07-28T13:20:58.864760Z"
    }
   },
   "outputs": [
    {
     "data": {
      "image/png": "[encoded data removed]",
      "text/plain": [
       "<Figure size 432x288 with 1 Axes>"
      ]
     },
     "metadata": {
      "needs_background": "light"
     },
     "output_type": "display_data"
    }
   ],
   "source": [
    "#complete the following code\n",
    "\n",
    "X_train, X_test, y_train, y_test = train_test_split(X, y, test_size=.2, random_state=34)\n",
    "\n",
    "scaler = StandardScaler()\n",
    "knn = KNeighborsClassifier()\n",
    "\n",
    "X_train_scl = scaler.fit_transform(X_train)\n",
    "\n",
    "X_test_scl = scaler.transform(X_test)\n",
    "\n",
    "knn_scores = []\n",
    "\n",
    "for k in range(3,20,2):\n",
    "\n",
    "    knn = knn.set_params(n_neighbors=k)\n",
    "    \n",
    "    knn.fit(X_train_scl, y_train)\n",
    "    knn_preds = knn.predict(X_test_scl)\n",
    "    \n",
    "    knn_score = f1_score(y_test, knn_preds)\n",
    "    \n",
    "    knn_scores.append(knn_score)\n",
    "    \n",
    "fig, ax = plt.subplots()\n",
    "ax.plot([x for x in range(3,20, 2)], knn_scores)\n",
    "ax.set_xticks([x for x in range(3,20, 2)])\n",
    "ax.set_xlabel('k')\n",
    "ax.set_ylabel('test f1 score')\n",
    "ax.set_title('test f1 score for odd values of k')\n",
    "plt.savefig('test_obj/viz')\n",
    "plt.plot();"
   ]
  },
  {
   "cell_type": "markdown",
   "metadata": {},
   "source": [
    "### Which value of k should we choose as our model?"
   ]
  },
  {
   "cell_type": "code",
   "execution_count": 23,
   "metadata": {
    "ExecuteTime": {
     "end_time": "2021-07-28T13:23:02.994211Z",
     "start_time": "2021-07-28T13:23:02.988252Z"
    }
   },
   "outputs": [
    {
     "data": {
      "text/plain": [
       "array([0.79821074, 0.79582712, 0.80139027, 0.80617838, 0.81203008,\n",
       "       0.81321983, 0.81081081, 0.81318681, 0.81265696])"
      ]
     },
     "execution_count": 23,
     "metadata": {},
     "output_type": "execute_result"
    }
   ],
   "source": [
    "np.array(knn_scores)"
   ]
  },
  {
   "cell_type": "markdown",
   "metadata": {},
   "source": [
    "> **Lowest complexity with highest F1:** k=11\n",
    ">\n",
    ">\n",
    "> **Highest score regardless of complexity:** k=13"
   ]
  },
  {
   "cell_type": "code",
   "execution_count": null,
   "metadata": {},
   "outputs": [],
   "source": []
  }
 ],
 "metadata": {
  "kernelspec": {
   "display_name": "Python (learn-env-bmc)",
   "language": "python",
   "name": "learn-env-bmc"
  },
  "language_info": {
   "codemirror_mode": {
    "name": "ipython",
    "version": 3
   },
   "file_extension": ".py",
   "mimetype": "text/x-python",
   "name": "python",
   "nbconvert_exporter": "python",
   "pygments_lexer": "ipython3",
   "version": "3.8.5"
  },
  "toc": {
   "base_numbering": 1,
   "nav_menu": {},
   "number_sections": true,
   "sideBar": true,
   "skip_h1_title": false,
   "title_cell": "Table of Contents",
   "title_sidebar": "Contents",
   "toc_cell": false,
   "toc_position": {},
   "toc_section_display": true,
   "toc_window_display": false
  }
 },
 "nbformat": 4,
 "nbformat_minor": 4
}
